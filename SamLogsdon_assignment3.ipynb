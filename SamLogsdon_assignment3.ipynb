{
 "cells": [
  {
   "cell_type": "code",
   "execution_count": null,
   "metadata": {
    "pycharm": {
     "is_executing": false
    }
   },
   "outputs": [],
   "source": [
    "import sqlite3\n",
    "conn = sqlite3.connect(\"database.sqlite\")\n",
    "\n",
    "def run_query(sql: str):\n",
    "    return conn.execute(sql).fetchall()"
   ]
  },
  {
   "cell_type": "markdown",
   "metadata": {},
   "source": [
    "### Problem 1"
   ]
  },
  {
   "cell_type": "code",
   "execution_count": null,
   "metadata": {
    "pycharm": {
     "is_executing": false,
     "name": "#%%\n"
    }
   },
   "outputs": [],
   "source": [
    "sql = '''\n",
    "SELECT player_name 'Player Name', STRFTIME(\"%Y-%m-%d\", birthday) 'Birthday'\n",
    "FROM Player\n",
    "WHERE STRFTIME('%Y', birthday) BETWEEN '1987' AND '1990'\n",
    "ORDER BY Birthday;'''\n",
    "\n",
    "rows = run_query(sql)\n",
    "print(f'{\"Player Name\":20} | Birthday')\n",
    "for row in rows:\n",
    "    print(f'{row[0]:20.20} | {row[1]}')"
   ]
  },
  {
   "cell_type": "markdown",
   "metadata": {
    "pycharm": {
     "name": "#%% md\n"
    }
   },
   "source": [
    "### Problem 2"
   ]
  },
  {
   "cell_type": "code",
   "execution_count": null,
   "metadata": {
    "pycharm": {
     "is_executing": false,
     "name": "#%%\n"
    }
   },
   "outputs": [],
   "source": [
    "sql = '''\n",
    "SELECT C.name 'Country', L.name 'League Name', SUM(M.home_team_goal + M.away_team_goal) \"Total Goals Scored\"\n",
    "FROM Country C\n",
    "         JOIN League L on C.id = L.country_id\n",
    "         JOIN Match M on C.id = M.country_id\n",
    "GROUP BY L.name, C.name\n",
    "ORDER BY 3 DESC;'''\n",
    "rows = run_query(sql)\n",
    "print(f'{\"Country\":15}   {\"League Name\":30}   {\"Total Goals Scored\"}')\n",
    "for row in rows:\n",
    "    print(f'{row[0]:15} | {row[1]:30} | {row[2]:4}')"
   ]
  },
  {
   "cell_type": "markdown",
   "metadata": {
    "pycharm": {
     "name": "#%% md\n"
    }
   },
   "source": [
    "### Problem 3"
   ]
  },
  {
   "cell_type": "code",
   "execution_count": null,
   "metadata": {
    "pycharm": {
     "is_executing": false,
     "name": "#%%\n"
    }
   },
   "outputs": [],
   "source": [
    "sql = '''\n",
    "SELECT team_long_name \"Team Long Name\", ROUND(AVG(((buildUpPlaySpeed +\n",
    "                        buildUpPlayDribbling +\n",
    "                        buildUpPlayPassing +\n",
    "                        chanceCreationPassing +\n",
    "                        chanceCreationCrossing +\n",
    "                        chanceCreationShooting +\n",
    "                        defenceAggression +\n",
    "                        defencePressure +\n",
    "                        defenceTeamWidth )/ 9.0)), 2) \"Team Stats\"\n",
    "FROM Team\n",
    "         JOIN Team_Attributes TA on Team.team_api_id = TA.team_api_id\n",
    "GROUP BY 1\n",
    "HAVING \"Team Stats\" NOT NULL\n",
    "ORDER BY 2 desc;'''\n",
    "rows = run_query(sql)\n",
    "print(f'{\"Team Long Name\":35}  {\"Team Stats\"}')\n",
    "for row in rows:\n",
    "    print(f'{row[0]:35} | {row[1]:<5}')\n"
   ]
  },
  {
   "cell_type": "markdown",
   "metadata": {},
   "source": [
    "### Problem 4"
   ]
  },
  {
   "cell_type": "code",
   "execution_count": null,
   "metadata": {
    "pycharm": {
     "is_executing": false,
     "name": "#%%\n"
    }
   },
   "outputs": [],
   "source": [
    "sql = '''\n",
    "WITH PA as (\n",
    "    SELECT max(date), *\n",
    "    FROM Player_Attributes\n",
    "    GROUP BY player_api_id\n",
    "),\n",
    "     combined_matches(player_name, player_id, team_name, team_id) as (\n",
    "         SELECT DISTINCT Player.player_name,\n",
    "                Player.player_api_id,\n",
    "                T.team_long_name,\n",
    "                T.team_api_id\n",
    "\n",
    "         from Player\n",
    "                  JOIN Match M ON\n",
    "                 Player.player_api_id\n",
    "                 IN (\n",
    "                     VALUES (home_player_1),\n",
    "                            (home_player_2),\n",
    "                            (home_player_3),\n",
    "                            (home_player_4),\n",
    "                            (home_player_5),\n",
    "                            (home_player_6),\n",
    "                            (home_player_6),\n",
    "                            (home_player_7),\n",
    "                            (home_player_8),\n",
    "                            (home_player_9),\n",
    "                            (home_player_10),\n",
    "                            (home_player_11)\n",
    "                 )\n",
    "                  JOIN Team T\n",
    "                       ON (M.home_team_api_id = T.team_api_id)\n",
    "         GROUP BY team_api_id, player_api_id\n",
    "         UNION\n",
    "         SELECT DISTINCT Player.player_name,\n",
    "                Player.player_api_id,\n",
    "                T.team_long_name,\n",
    "                T.team_api_id\n",
    "\n",
    "         from Player\n",
    "                  JOIN Match M ON\n",
    "                 Player.player_api_id\n",
    "                 IN (\n",
    "                     VALUES (away_player_1),\n",
    "                            (away_player_2),\n",
    "                            (away_player_3),\n",
    "                            (away_player_4),\n",
    "                            (away_player_5),\n",
    "                            (away_player_6),\n",
    "                            (away_player_6),\n",
    "                            (away_player_7),\n",
    "                            (away_player_8),\n",
    "                            (away_player_9),\n",
    "                            (away_player_10),\n",
    "                            (away_player_11)\n",
    "                 )\n",
    "                  JOIN Team T\n",
    "                       ON M.away_team_api_id = T.team_api_id\n",
    "         GROUP BY team_api_id, player_api_id\n",
    "     )\n",
    "SELECT team_name 'Team Name',\n",
    "        count(*) 'Number of Players', \n",
    "       round(avg(overall_rating), 2) 'Player Attribute Average'\n",
    "       \n",
    "FROM combined_matches\n",
    "         JOIN PA ON player_id = player_api_id\n",
    "GROUP BY team_id\n",
    "ORDER BY\n",
    "         \"Player Attribute Average\" DESC\n",
    "LIMIT 5;\n",
    "'''\n",
    "\n",
    "rows = run_query(sql)\n",
    "print(f'{\"Team Name\":30}   {\"Number of Players\":20}   {\"Player Attribute Average\"}')\n",
    "for row in rows:\n",
    "    print(f'{row[0]:30} | {row[1]:<20} | {row[2]:<5}')\n",
    "\n",
    "    \n",
    "\n"
   ]
  },
  {
   "cell_type": "markdown",
   "metadata": {},
   "source": [
    "### Problem 5"
   ]
  },
  {
   "cell_type": "code",
   "execution_count": null,
   "metadata": {
    "pycharm": {
     "is_executing": false,
     "name": "#%%\n"
    }
   },
   "outputs": [],
   "source": [
    "sql = '''\n",
    "SELECT STRFTIME('%d/%m/%Y', date) 'Date (dd/mm/yy)',\n",
    "       season Season,\n",
    "       L.name 'League Name',\n",
    "       MAX(M.home_team_goal + M.away_team_goal) 'Goals Scored'\n",
    "FROM Match M\n",
    "         JOIN League L on m.league_id = L.id\n",
    "GROUP BY 2, 3\n",
    "ORDER BY 3, 2;\n",
    "'''\n",
    "\n",
    "rows = run_query(sql)\n",
    "print(f'{\"Date (dd/mm/yy)\":15}   {\"Season\":10}   {\"League Name\":25}   {\"Goals Scored\"}')\n",
    "for row in rows:\n",
    "    print(f'{row[0]:15} | {row[1]:10} | {row[2]:25} | {row[3]:<2}')\n"
   ]
  },
  {
   "cell_type": "markdown",
   "metadata": {
    "pycharm": {
     "name": "#%% md\n"
    }
   },
   "source": [
    "### Graduate Student Task"
   ]
  },
  {
   "cell_type": "code",
   "execution_count": null,
   "metadata": {
    "pycharm": {
     "is_executing": false,
     "name": "#%%\n"
    }
   },
   "outputs": [],
   "source": [
    "sql = '''\n",
    "WITH home_scores AS\n",
    "         (\n",
    "             SELECT season, SUM(home_team_goal) goals, home_team_api_id, league_id\n",
    "             FROM Match\n",
    "             WHERE season LIKE '%2008/2009%'\n",
    "             GROUP BY home_team_api_id),\n",
    "     away_scores AS\n",
    "         (SELECT season, SUM(away_team_goal) goals, away_team_api_id, league_id\n",
    "          FROM Match\n",
    "          WHERE season LIKE '%2008/2009%'\n",
    "          GROUP BY away_team_api_id),\n",
    "     scores AS (\n",
    "         SELECT (home_scores.goals + away_scores.goals) goals,\n",
    "                home_team_api_id team_id,\n",
    "                away_scores.league_id league_id,\n",
    "                away_scores.season season\n",
    "         FROM home_scores\n",
    "                  JOIN away_scores ON home_scores.home_team_api_id = away_scores.away_team_api_id\n",
    "     ),\n",
    "     ranked_scores as (\n",
    "         SELECT scores.goals,\n",
    "                scores.league_id,\n",
    "                scores.team_id,\n",
    "                scores.season,\n",
    "                rank() OVER\n",
    "                    (PARTITION BY league_id ORDER BY goals Desc) as rank\n",
    "         FROM scores)\n",
    "SELECT season Season, L.name League, ranked_scores.rank Rank, T.team_long_name 'Team Name', ranked_scores.goals 'Goals Scored'\n",
    "from ranked_scores\n",
    "JOIN League L ON ranked_scores.league_id = L.id\n",
    "JOIN Team T ON ranked_scores.team_id = T.team_api_id\n",
    "WHERE rank <= 5;\n",
    "'''\n",
    "rows = run_query(sql)\n",
    "print(f'{\"Season\":10}   {\"League\":25}   {\"Rank\":5}   {\"Team Name\":25}   {\"Goals Scored\"}')\n",
    "for row in rows:\n",
    "    print(f'{row[0]:10} | {row[1]:25} | {row[2]:<5} | {row[3]:25} | {row[4]:<3}')"
   ]
  }
 ],
 "metadata": {
  "kernelspec": {
   "display_name": "Python 3",
   "language": "python",
   "name": "python3"
  },
  "language_info": {
   "codemirror_mode": {
    "name": "ipython",
    "version": 3
   },
   "file_extension": ".py",
   "mimetype": "text/x-python",
   "name": "python",
   "nbconvert_exporter": "python",
   "pygments_lexer": "ipython3",
   "version": "3.7.4"
  },
  "pycharm": {
   "stem_cell": {
    "cell_type": "raw",
    "metadata": {
     "collapsed": false
    },
    "source": []
   }
  }
 },
 "nbformat": 4,
 "nbformat_minor": 1
}
